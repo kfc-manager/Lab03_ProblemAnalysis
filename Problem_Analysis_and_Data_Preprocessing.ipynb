{
  "cells": [
    {
      "cell_type": "markdown",
      "metadata": {
        "id": "0WhpMgiS1o5A"
      },
      "source": [
        "# Data Preprocessing\n",
        "\n",
        "The goal of this lab is to introduce you to data preprocessing techniques in order to make your data suitable for applying a learning algorithm.\n",
        "\n",
        "## 1. Handling Missing Values\n",
        "\n",
        "A common (and very unfortunate) data property is the ocurrence of missing and erroneous values in multiple features in datasets. For this exercise we will be using a data set about abalone snails.\n",
        "The data set is contained in the Zip file you downloaded from Moodle (abalone.csv).\n",
        "\n",
        "To determine the age of a abalone snail you have to kill the snail and count the annual\n",
        "rings. You are told to estimate the age of a snail on the basis of the following attributes:\n",
        "1. type: male (0), female (1) and infant (2)\n",
        "2. length in mm\n",
        "3. width in mm\n",
        "4. height in mm\n",
        "5. total weight in grams\n",
        "6. weight of the meat in grams\n",
        "7. drained weight in grams\n",
        "8. weight of the shell in grams\n",
        "9. number of annual rings (number of rings +1, 5 yields age)\n",
        "\n",
        "However, the data is incomplete. Missing values are marked with −1."
      ]
    },
    {
      "cell_type": "code",
      "execution_count": 118,
      "metadata": {
        "colab": {
          "base_uri": "https://localhost:8080/",
          "height": 206
        },
        "id": "aTRoZnye1o5D",
        "outputId": "3b2669b0-1ea1-46d6-b768-638722442986",
        "scrolled": true
      },
      "outputs": [
        {
          "data": {
            "text/html": [
              "<div>\n",
              "<style scoped>\n",
              "    .dataframe tbody tr th:only-of-type {\n",
              "        vertical-align: middle;\n",
              "    }\n",
              "\n",
              "    .dataframe tbody tr th {\n",
              "        vertical-align: top;\n",
              "    }\n",
              "\n",
              "    .dataframe thead th {\n",
              "        text-align: right;\n",
              "    }\n",
              "</style>\n",
              "<table border=\"1\" class=\"dataframe\">\n",
              "  <thead>\n",
              "    <tr style=\"text-align: right;\">\n",
              "      <th></th>\n",
              "      <th>type</th>\n",
              "      <th>length</th>\n",
              "      <th>width</th>\n",
              "      <th>height</th>\n",
              "      <th>total_weight</th>\n",
              "      <th>meat_weight</th>\n",
              "      <th>drained_weight</th>\n",
              "      <th>shell_weight</th>\n",
              "      <th>num_rings</th>\n",
              "    </tr>\n",
              "  </thead>\n",
              "  <tbody>\n",
              "    <tr>\n",
              "      <th>0</th>\n",
              "      <td>0</td>\n",
              "      <td>0.350</td>\n",
              "      <td>0.265</td>\n",
              "      <td>0.090</td>\n",
              "      <td>0.2255</td>\n",
              "      <td>0.0995</td>\n",
              "      <td>0.0485</td>\n",
              "      <td>0.070</td>\n",
              "      <td>-1</td>\n",
              "    </tr>\n",
              "    <tr>\n",
              "      <th>1</th>\n",
              "      <td>1</td>\n",
              "      <td>0.530</td>\n",
              "      <td>0.420</td>\n",
              "      <td>0.135</td>\n",
              "      <td>0.6770</td>\n",
              "      <td>0.2565</td>\n",
              "      <td>0.1415</td>\n",
              "      <td>0.210</td>\n",
              "      <td>9</td>\n",
              "    </tr>\n",
              "    <tr>\n",
              "      <th>2</th>\n",
              "      <td>0</td>\n",
              "      <td>0.440</td>\n",
              "      <td>0.365</td>\n",
              "      <td>0.125</td>\n",
              "      <td>0.5160</td>\n",
              "      <td>0.2155</td>\n",
              "      <td>0.1140</td>\n",
              "      <td>0.155</td>\n",
              "      <td>10</td>\n",
              "    </tr>\n",
              "    <tr>\n",
              "      <th>3</th>\n",
              "      <td>2</td>\n",
              "      <td>-1.000</td>\n",
              "      <td>0.255</td>\n",
              "      <td>0.080</td>\n",
              "      <td>0.2050</td>\n",
              "      <td>0.0895</td>\n",
              "      <td>0.0395</td>\n",
              "      <td>0.055</td>\n",
              "      <td>7</td>\n",
              "    </tr>\n",
              "    <tr>\n",
              "      <th>4</th>\n",
              "      <td>2</td>\n",
              "      <td>0.425</td>\n",
              "      <td>0.300</td>\n",
              "      <td>0.095</td>\n",
              "      <td>0.3515</td>\n",
              "      <td>0.1410</td>\n",
              "      <td>0.0775</td>\n",
              "      <td>0.120</td>\n",
              "      <td>8</td>\n",
              "    </tr>\n",
              "  </tbody>\n",
              "</table>\n",
              "</div>"
            ],
            "text/plain": [
              "   type  length  width  height  total_weight  meat_weight  drained_weight  \\\n",
              "0     0   0.350  0.265   0.090        0.2255       0.0995          0.0485   \n",
              "1     1   0.530  0.420   0.135        0.6770       0.2565          0.1415   \n",
              "2     0   0.440  0.365   0.125        0.5160       0.2155          0.1140   \n",
              "3     2  -1.000  0.255   0.080        0.2050       0.0895          0.0395   \n",
              "4     2   0.425  0.300   0.095        0.3515       0.1410          0.0775   \n",
              "\n",
              "   shell_weight  num_rings  \n",
              "0         0.070         -1  \n",
              "1         0.210          9  \n",
              "2         0.155         10  \n",
              "3         0.055          7  \n",
              "4         0.120          8  "
            ]
          },
          "execution_count": 118,
          "metadata": {},
          "output_type": "execute_result"
        }
      ],
      "source": [
        "import pandas as pd\n",
        "# load data \n",
        "df = pd.read_csv(\"abalone.csv\") #Should this not work please use the csv that was part of the zip file. (it didn't work)\n",
        "df.columns=['type','length','width','height','total_weight','meat_weight','drained_weight','shell_weight','num_rings']\n",
        "df.head()"
      ]
    },
    {
      "cell_type": "markdown",
      "metadata": {
        "id": "Q_KMa47j1o5E"
      },
      "source": [
        "### Exercise 1.1\n",
        "\n",
        "Compute the mean of of each numeric column and the counts of each categorical column, excluding the missing values."
      ]
    },
    {
      "cell_type": "code",
      "execution_count": 119,
      "metadata": {
        "id": "-dCq2-NW1o5F"
      },
      "outputs": [
        {
          "name": "stdout",
          "output_type": "stream",
          "text": [
            "The means of the numeric columns:\n",
            "[0.9535338713621913, 0.5236920039486674, 0.40795533070089013, 0.13961006910167725, 0.8288428746928771, 0.3592626511972346, 0.18024858618146095, 0.23860444280805088, 9.921756193279371]\n"
          ]
        }
      ],
      "source": [
        "##################\n",
        "#INSERT CODE HERE#\n",
        "##################\n",
        "\n",
        "def mean(dataframe, columns):\n",
        "    means = [] #list where we collect the mean of each column\n",
        "    for column in columns: #loop through all columns\n",
        "        count = 0 #we count how many entries are valid\n",
        "        result = 0 #our result variable\n",
        "        for i in range(0, len(dataframe)): #loop through dataframe\n",
        "            if (dataframe[column][i] == -1): #check if entry is not valid\n",
        "                continue #entry is not valid and we do nothing\n",
        "            count += 1 #increase count since we found a valid entry\n",
        "            result += dataframe[column][i] #add entry\n",
        "        means.append(result/count) #devide by amount of valid entries\n",
        "    return means #return list with the means\n",
        "\n",
        "print(\"The means of the numeric columns:\")\n",
        "print(mean(df, df.columns))\n"
      ]
    },
    {
      "cell_type": "markdown",
      "metadata": {
        "id": "3I0CjV2c1o5G"
      },
      "source": [
        "### Exercise 1.2\n",
        "\n",
        "Compute the median of each numeric column,  excluding the missing values."
      ]
    },
    {
      "cell_type": "code",
      "execution_count": 120,
      "metadata": {
        "id": "sw_28SAt1o5G"
      },
      "outputs": [
        {
          "name": "stdout",
          "output_type": "stream",
          "text": [
            "The medians of the numeric columns:\n",
            "[1, 0.545, 0.425, 0.14, 0.802, 0.336, 0.1705, 0.2335, 9]\n"
          ]
        }
      ],
      "source": [
        "##################\n",
        "#INSERT CODE HERE#\n",
        "##################\n",
        "\n",
        "def median(dataframe, columns):\n",
        "    medians = [] #list where we collect the median of each column\n",
        "    for column in columns: #loop through all columns\n",
        "        values = [] #list where we collect all valid entries of a column\n",
        "        for i in range(0,len(dataframe)): #loop through dataframe\n",
        "            if(dataframe[column][i] == -1): #check if entry is not valid\n",
        "                continue #entry is not valid and we do nothing\n",
        "            values.append(dataframe[column][i]) #add value to list since it is valid\n",
        "        values.sort() #sort all values so we can determine the median\n",
        "        medians.append(values[len(values)//2]) #get the value in the middle of the list\n",
        "    return medians #return list with medians\n",
        "\n",
        "print(\"The medians of the numeric columns:\")\n",
        "print(median(df, df.columns))\n"
      ]
    },
    {
      "cell_type": "markdown",
      "metadata": {
        "id": "DMltOlp_1o5G"
      },
      "source": [
        "### Exercise 1.3\n",
        "\n",
        "Handle the missing values in a way that you find suitable. Think about different ways. Discuss dis-/advantages of your approach. Argue your choices.\n"
      ]
    },
    {
      "cell_type": "code",
      "execution_count": 121,
      "metadata": {
        "id": "gxDCHrb31o5G"
      },
      "outputs": [
        {
          "data": {
            "text/html": [
              "<div>\n",
              "<style scoped>\n",
              "    .dataframe tbody tr th:only-of-type {\n",
              "        vertical-align: middle;\n",
              "    }\n",
              "\n",
              "    .dataframe tbody tr th {\n",
              "        vertical-align: top;\n",
              "    }\n",
              "\n",
              "    .dataframe thead th {\n",
              "        text-align: right;\n",
              "    }\n",
              "</style>\n",
              "<table border=\"1\" class=\"dataframe\">\n",
              "  <thead>\n",
              "    <tr style=\"text-align: right;\">\n",
              "      <th></th>\n",
              "      <th>type</th>\n",
              "      <th>length</th>\n",
              "      <th>width</th>\n",
              "      <th>height</th>\n",
              "      <th>total_weight</th>\n",
              "      <th>meat_weight</th>\n",
              "      <th>drained_weight</th>\n",
              "      <th>shell_weight</th>\n",
              "      <th>num_rings</th>\n",
              "    </tr>\n",
              "  </thead>\n",
              "  <tbody>\n",
              "    <tr>\n",
              "      <th>0</th>\n",
              "      <td>0.0</td>\n",
              "      <td>0.350000</td>\n",
              "      <td>0.265</td>\n",
              "      <td>0.090</td>\n",
              "      <td>0.2255</td>\n",
              "      <td>0.0995</td>\n",
              "      <td>0.0485</td>\n",
              "      <td>0.070</td>\n",
              "      <td>9.921756</td>\n",
              "    </tr>\n",
              "    <tr>\n",
              "      <th>1</th>\n",
              "      <td>1.0</td>\n",
              "      <td>0.530000</td>\n",
              "      <td>0.420</td>\n",
              "      <td>0.135</td>\n",
              "      <td>0.6770</td>\n",
              "      <td>0.2565</td>\n",
              "      <td>0.1415</td>\n",
              "      <td>0.210</td>\n",
              "      <td>9.000000</td>\n",
              "    </tr>\n",
              "    <tr>\n",
              "      <th>2</th>\n",
              "      <td>0.0</td>\n",
              "      <td>0.440000</td>\n",
              "      <td>0.365</td>\n",
              "      <td>0.125</td>\n",
              "      <td>0.5160</td>\n",
              "      <td>0.2155</td>\n",
              "      <td>0.1140</td>\n",
              "      <td>0.155</td>\n",
              "      <td>10.000000</td>\n",
              "    </tr>\n",
              "    <tr>\n",
              "      <th>3</th>\n",
              "      <td>2.0</td>\n",
              "      <td>0.523692</td>\n",
              "      <td>0.255</td>\n",
              "      <td>0.080</td>\n",
              "      <td>0.2050</td>\n",
              "      <td>0.0895</td>\n",
              "      <td>0.0395</td>\n",
              "      <td>0.055</td>\n",
              "      <td>7.000000</td>\n",
              "    </tr>\n",
              "    <tr>\n",
              "      <th>4</th>\n",
              "      <td>2.0</td>\n",
              "      <td>0.425000</td>\n",
              "      <td>0.300</td>\n",
              "      <td>0.095</td>\n",
              "      <td>0.3515</td>\n",
              "      <td>0.1410</td>\n",
              "      <td>0.0775</td>\n",
              "      <td>0.120</td>\n",
              "      <td>8.000000</td>\n",
              "    </tr>\n",
              "  </tbody>\n",
              "</table>\n",
              "</div>"
            ],
            "text/plain": [
              "   type    length  width  height  total_weight  meat_weight  drained_weight  \\\n",
              "0   0.0  0.350000  0.265   0.090        0.2255       0.0995          0.0485   \n",
              "1   1.0  0.530000  0.420   0.135        0.6770       0.2565          0.1415   \n",
              "2   0.0  0.440000  0.365   0.125        0.5160       0.2155          0.1140   \n",
              "3   2.0  0.523692  0.255   0.080        0.2050       0.0895          0.0395   \n",
              "4   2.0  0.425000  0.300   0.095        0.3515       0.1410          0.0775   \n",
              "\n",
              "   shell_weight  num_rings  \n",
              "0         0.070   9.921756  \n",
              "1         0.210   9.000000  \n",
              "2         0.155  10.000000  \n",
              "3         0.055   7.000000  \n",
              "4         0.120   8.000000  "
            ]
          },
          "execution_count": 121,
          "metadata": {},
          "output_type": "execute_result"
        }
      ],
      "source": [
        "##################\n",
        "#INSERT CODE HERE#\n",
        "##################\n",
        "\n",
        "def fix_dataframe(dataframe, columns):\n",
        "    means = mean(dataframe, columns) #get means of the dataframe\n",
        "    for i in range(0, len(columns)): #loop through columns\n",
        "        for j in range(0, len(dataframe)): #loop through rows\n",
        "            if (dataframe[columns[i]][j] == -1): #check if entry is not valid\n",
        "                dataframe.at[j, columns[i]] = means[i] #replace entry with mean of the column\n",
        "\n",
        "fix_dataframe(df, df.columns)\n",
        "\n",
        "\"\"\"\n",
        "The way I choose is to replace a missing value with the mean of the column.\n",
        "The mean is most likley to be close to the actual value we were not able to record.\n",
        "Of course it is not guaranteed that this value is close to the actual value and very\n",
        "unlikely to be the exact value. Because of that the invalid entries might misslead\n",
        "while making a decision. Therefore another way would be to drop the entries with\n",
        "missing information or at least drop those, which have multiple missing values.\n",
        "\"\"\"\n",
        "\n",
        "df.head()"
      ]
    },
    {
      "cell_type": "markdown",
      "metadata": {
        "id": "VpklBouL1o5H"
      },
      "source": [
        "### Exercise 1.4\n",
        "\n",
        "Perform Z-score normalization on every column (except the type of course!)"
      ]
    },
    {
      "cell_type": "code",
      "execution_count": 122,
      "metadata": {
        "id": "HbkY--hk1o5I"
      },
      "outputs": [
        {
          "name": "stdout",
          "output_type": "stream",
          "text": [
            "Mean of length : 6.823086157373052e-15\n",
            "Standard deviation of length : 0.9999999999999927\n",
            "Mean of width : -6.9622362366567704e-15\n",
            "Standard deviation of width : 0.999999999999997\n",
            "Mean of height : 4.033368998518127e-14\n",
            "Standard deviation of height : 1.0000000000000184\n",
            "Mean of total_weight : -1.6130136817542504e-15\n",
            "Standard deviation of total_weight : 0.9999999999999978\n",
            "Mean of meat_weight : 3.3130161024111232e-15\n",
            "Standard deviation of meat_weight : 0.9999999999999988\n",
            "Mean of drained_weight : -4.445252169765916e-15\n",
            "Standard deviation of drained_weight : 0.999999999999998\n",
            "Mean of shell_weight : -7.512083760490523e-16\n",
            "Standard deviation of shell_weight : 1.0000000000000067\n",
            "Mean of num_rings : -8.852273958559348e-16\n",
            "Standard deviation of num_rings : 1.0000000000000175\n"
          ]
        }
      ],
      "source": [
        "##################\n",
        "#INSERT CODE HERE#\n",
        "##################\n",
        "\n",
        "def mean_of_column(column):\n",
        "    result = 0\n",
        "    for i in column: #loop through the array\n",
        "        result += i\n",
        "    return result/column.size #return mean\n",
        "\n",
        "def variance(column):\n",
        "    mean = mean_of_column(column)\n",
        "    result = 0\n",
        "    for i in column: #loop through the array\n",
        "        result += (i-mean)**2\n",
        "    return result/column.size #return variance\n",
        "\n",
        "def standard_deviation(column):\n",
        "    return variance(column)**(1/2)\n",
        "\n",
        "def z_score_normalization(df, columns):\n",
        "    for column in columns: #loop through columns\n",
        "        mean = mean_of_column(df[column]) #get mean\n",
        "        sd = standard_deviation(df[column]) #get standard deviation\n",
        "        for i in range(0, len(df)): #loop through dataframe\n",
        "            df.at[i, column] = (df.at[i, column] - mean) / sd #replace old value with the new one\n",
        "\n",
        "z_score_normalization(df, df.columns[1:]) #normalize all columns except \"type\"\n",
        "\n",
        "\"\"\"\n",
        "The mean of the normalized values is 0 and the standard deviation of\n",
        "the nromalized values is 1. With the following loop we check if the\n",
        "normalization worked. Note that rounding errors cause slight deviation\n",
        "from 0 and 1.\n",
        "\"\"\"\n",
        "\n",
        "for i in df.columns[1:]:\n",
        "    print(\"Mean of\", i, \":\", mean_of_column(df[i]))\n",
        "    print(\"Standard deviation of\", i, \":\", standard_deviation(df[i]))"
      ]
    }
  ],
  "metadata": {
    "colab": {
      "collapsed_sections": [],
      "name": "Problem_Analysis_and_Data_Preprocessing.ipynb",
      "provenance": []
    },
    "kernelspec": {
      "display_name": "Python 3.10.4 64-bit",
      "language": "python",
      "name": "python3"
    },
    "language_info": {
      "codemirror_mode": {
        "name": "ipython",
        "version": 3
      },
      "file_extension": ".py",
      "mimetype": "text/x-python",
      "name": "python",
      "nbconvert_exporter": "python",
      "pygments_lexer": "ipython3",
      "version": "3.10.4"
    },
    "vscode": {
      "interpreter": {
        "hash": "aee8b7b246df8f9039afb4144a1f6fd8d2ca17a180786b69acc140d282b71a49"
      }
    }
  },
  "nbformat": 4,
  "nbformat_minor": 0
}
